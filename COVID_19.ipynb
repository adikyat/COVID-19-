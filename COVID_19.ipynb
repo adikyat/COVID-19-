{
  "nbformat": 4,
  "nbformat_minor": 0,
  "metadata": {
    "colab": {
      "name": "COVID_19.ipynb",
      "provenance": [],
      "collapsed_sections": []
    },
    "kernelspec": {
      "name": "python3",
      "display_name": "Python 3"
    }
  },
  "cells": [
    {
      "cell_type": "markdown",
      "metadata": {
        "id": "W7g7QcnR4JfG",
        "colab_type": "text"
      },
      "source": [
        "# The dataset has some data which is officially available for research in COVID-19 and some I have added randomly by refering to various common facts and news articles because the required data for every feature for my project is not available yet.\n",
        "# This model can be used to give us the idea about the quantity of medical and administrative facilities needed.\n",
        "\n",
        "# This model uses travel history, so it will detect the persons who have not yet acquired any symptoms but would be acquiring."
      ]
    },
    {
      "cell_type": "markdown",
      "metadata": {
        "id": "i9hQUIy04XIy",
        "colab_type": "text"
      },
      "source": [
        "# This is basically a MVP ,ofcourse for final model the dataset should be more relevant and vast."
      ]
    },
    {
      "cell_type": "code",
      "metadata": {
        "id": "niJ5UAXL4TCY",
        "colab_type": "code",
        "colab": {}
      },
      "source": [
        "import pandas as pd\n",
        "import seaborn as sns\n",
        "import matplotlib.pyplot as plt\n",
        "\n",
        "# Comment this if the data visualisations doesn't work on your side\n",
        "%matplotlib inline\n",
        "\n",
        "plt.style.use('bmh')"
      ],
      "execution_count": 0,
      "outputs": []
    },
    {
      "cell_type": "code",
      "metadata": {
        "id": "iZwiM6sb4gl7",
        "colab_type": "code",
        "outputId": "1b4de105-0760-43cf-e73b-b7828a8f79bc",
        "colab": {
          "base_uri": "https://localhost:8080/",
          "height": 204
        }
      },
      "source": [
        "df= pd.read_csv('/content/drive/My Drive/COVID19/COVID_19.csv', index_col=None)\n",
        "df.head()\n"
      ],
      "execution_count": 96,
      "outputs": [
        {
          "output_type": "execute_result",
          "data": {
            "text/html": [
              "<div>\n",
              "<style scoped>\n",
              "    .dataframe tbody tr th:only-of-type {\n",
              "        vertical-align: middle;\n",
              "    }\n",
              "\n",
              "    .dataframe tbody tr th {\n",
              "        vertical-align: top;\n",
              "    }\n",
              "\n",
              "    .dataframe thead th {\n",
              "        text-align: right;\n",
              "    }\n",
              "</style>\n",
              "<table border=\"1\" class=\"dataframe\">\n",
              "  <thead>\n",
              "    <tr style=\"text-align: right;\">\n",
              "      <th></th>\n",
              "      <th>age</th>\n",
              "      <th>gender</th>\n",
              "      <th>Region1</th>\n",
              "      <th>Region2</th>\n",
              "      <th>detected_state</th>\n",
              "      <th>nationality</th>\n",
              "      <th>Travel_hist</th>\n",
              "      <th>Disease_hist</th>\n",
              "      <th>Symptom</th>\n",
              "      <th>Label</th>\n",
              "    </tr>\n",
              "  </thead>\n",
              "  <tbody>\n",
              "    <tr>\n",
              "      <th>0</th>\n",
              "      <td>23</td>\n",
              "      <td>Female</td>\n",
              "      <td>Bebusarai</td>\n",
              "      <td>Bebusarai</td>\n",
              "      <td>Bihar</td>\n",
              "      <td>India</td>\n",
              "      <td>India</td>\n",
              "      <td>Null</td>\n",
              "      <td>Null</td>\n",
              "      <td>Negative</td>\n",
              "    </tr>\n",
              "    <tr>\n",
              "      <th>1</th>\n",
              "      <td>41</td>\n",
              "      <td>Female</td>\n",
              "      <td>Balasore</td>\n",
              "      <td>Balasore</td>\n",
              "      <td>Orissa</td>\n",
              "      <td>India</td>\n",
              "      <td>India</td>\n",
              "      <td>Diabetes</td>\n",
              "      <td>Null</td>\n",
              "      <td>Negative</td>\n",
              "    </tr>\n",
              "    <tr>\n",
              "      <th>2</th>\n",
              "      <td>21</td>\n",
              "      <td>Female</td>\n",
              "      <td>Erode</td>\n",
              "      <td>Erode</td>\n",
              "      <td>Tamil Nadu</td>\n",
              "      <td>India</td>\n",
              "      <td>India</td>\n",
              "      <td>Null</td>\n",
              "      <td>Fever</td>\n",
              "      <td>Negative</td>\n",
              "    </tr>\n",
              "    <tr>\n",
              "      <th>3</th>\n",
              "      <td>55</td>\n",
              "      <td>Male</td>\n",
              "      <td>Gurugram</td>\n",
              "      <td>Gurugram</td>\n",
              "      <td>Haryana</td>\n",
              "      <td>Italy</td>\n",
              "      <td>Italy</td>\n",
              "      <td>BP</td>\n",
              "      <td>Fever</td>\n",
              "      <td>Positive</td>\n",
              "    </tr>\n",
              "    <tr>\n",
              "      <th>4</th>\n",
              "      <td>41</td>\n",
              "      <td>Female</td>\n",
              "      <td>Bhilwara</td>\n",
              "      <td>Bhilwara</td>\n",
              "      <td>Rajasthan</td>\n",
              "      <td>India</td>\n",
              "      <td>India</td>\n",
              "      <td>BP</td>\n",
              "      <td>Dry Cough</td>\n",
              "      <td>Positive</td>\n",
              "    </tr>\n",
              "  </tbody>\n",
              "</table>\n",
              "</div>"
            ],
            "text/plain": [
              "   age  gender   Region1   ... Disease_hist    Symptom     Label\n",
              "0   23  Female  Bebusarai  ...         Null       Null  Negative\n",
              "1   41  Female   Balasore  ...     Diabetes       Null  Negative\n",
              "2   21  Female      Erode  ...         Null      Fever  Negative\n",
              "3   55    Male   Gurugram  ...           BP      Fever  Positive\n",
              "4   41  Female   Bhilwara  ...           BP  Dry Cough  Positive\n",
              "\n",
              "[5 rows x 10 columns]"
            ]
          },
          "metadata": {
            "tags": []
          },
          "execution_count": 96
        }
      ]
    },
    {
      "cell_type": "code",
      "metadata": {
        "id": "QggDMale4oAP",
        "colab_type": "code",
        "outputId": "072fe2cc-9f33-49a9-a1b0-eb5cf35b666b",
        "colab": {
          "base_uri": "https://localhost:8080/",
          "height": 272
        }
      },
      "source": [
        "df.info()\n"
      ],
      "execution_count": 97,
      "outputs": [
        {
          "output_type": "stream",
          "text": [
            "<class 'pandas.core.frame.DataFrame'>\n",
            "RangeIndex: 974 entries, 0 to 973\n",
            "Data columns (total 10 columns):\n",
            "age               974 non-null int64\n",
            "gender            974 non-null object\n",
            "Region1           974 non-null object\n",
            "Region2           974 non-null object\n",
            "detected_state    974 non-null object\n",
            "nationality       974 non-null object\n",
            "Travel_hist       974 non-null object\n",
            "Disease_hist      974 non-null object\n",
            "Symptom           974 non-null object\n",
            "Label             974 non-null object\n",
            "dtypes: int64(1), object(9)\n",
            "memory usage: 76.2+ KB\n"
          ],
          "name": "stdout"
        }
      ]
    },
    {
      "cell_type": "code",
      "metadata": {
        "id": "BfpcIbMr4wUx",
        "colab_type": "code",
        "outputId": "f600cfbf-33f9-4bd9-c05d-f1aee740df2e",
        "colab": {
          "base_uri": "https://localhost:8080/",
          "height": 34
        }
      },
      "source": [
        "list(set(df.dtypes.tolist()))\n"
      ],
      "execution_count": 98,
      "outputs": [
        {
          "output_type": "execute_result",
          "data": {
            "text/plain": [
              "[dtype('int64'), dtype('O')]"
            ]
          },
          "metadata": {
            "tags": []
          },
          "execution_count": 98
        }
      ]
    },
    {
      "cell_type": "code",
      "metadata": {
        "id": "13ha_LVO45Zu",
        "colab_type": "code",
        "outputId": "b4d4de7f-54a5-4274-803e-be5b07ccffef",
        "colab": {
          "base_uri": "https://localhost:8080/",
          "height": 34
        }
      },
      "source": [
        "from collections import Counter\n",
        "Counter(df[\"Label\"]) "
      ],
      "execution_count": 99,
      "outputs": [
        {
          "output_type": "execute_result",
          "data": {
            "text/plain": [
              "Counter({'Negative': 337, 'Positive': 637})"
            ]
          },
          "metadata": {
            "tags": []
          },
          "execution_count": 99
        }
      ]
    },
    {
      "cell_type": "code",
      "metadata": {
        "id": "7SGUmx0k5afi",
        "colab_type": "code",
        "outputId": "059b1293-b20e-4ca6-d022-6f1cab739081",
        "colab": {
          "base_uri": "https://localhost:8080/",
          "height": 68
        }
      },
      "source": [
        "df.columns"
      ],
      "execution_count": 100,
      "outputs": [
        {
          "output_type": "execute_result",
          "data": {
            "text/plain": [
              "Index(['age', 'gender', 'Region1 ', 'Region2', 'detected_state', 'nationality',\n",
              "       'Travel_hist', 'Disease_hist', 'Symptom', 'Label'],\n",
              "      dtype='object')"
            ]
          },
          "metadata": {
            "tags": []
          },
          "execution_count": 100
        }
      ]
    },
    {
      "cell_type": "code",
      "metadata": {
        "id": "Xjm6Y5c05iLQ",
        "colab_type": "code",
        "outputId": "97b448eb-78a0-46c5-f55e-8ae8950ce41e",
        "colab": {
          "base_uri": "https://localhost:8080/",
          "height": 588
        }
      },
      "source": [
        "plt.figure(figsize = (10,10))\n",
        "boxplot = df.boxplot()\n",
        "plt.savefig('/content/drive/My Drive/COVID19/boxplot.png')"
      ],
      "execution_count": 101,
      "outputs": [
        {
          "output_type": "display_data",
          "data": {
            "image/png": "[encoded data removed]",
            "text/plain": [
              "<Figure size 720x720 with 1 Axes>"
            ]
          },
          "metadata": {
            "tags": []
          }
        }
      ]
    },
    {
      "cell_type": "code",
      "metadata": {
        "id": "I31Qrh0w524M",
        "colab_type": "code",
        "colab": {
          "base_uri": "https://localhost:8080/",
          "height": 54
        },
        "outputId": "584331e0-db71-4718-c628-b94c685f7506"
      },
      "source": [
        "from sklearn.preprocessing import LabelEncoder\n",
        "encodings = dict()\n",
        "for c in df.columns:\n",
        "    #print df[c].dtype\n",
        "    if df[c].dtype == \"object\":\n",
        "        encodings[c] = LabelEncoder() #to give numerical label to char type labels.\n",
        "        encodings[c]\n",
        "        df[c] = encodings[c].fit_transform(df[c])\n",
        "print(encodings)"
      ],
      "execution_count": 102,
      "outputs": [
        {
          "output_type": "stream",
          "text": [
            "{'gender': LabelEncoder(), 'Region1 ': LabelEncoder(), 'Region2': LabelEncoder(), 'detected_state': LabelEncoder(), 'nationality': LabelEncoder(), 'Travel_hist': LabelEncoder(), 'Disease_hist': LabelEncoder(), 'Symptom': LabelEncoder(), 'Label': LabelEncoder()}\n"
          ],
          "name": "stdout"
        }
      ]
    },
    {
      "cell_type": "code",
      "metadata": {
        "id": "EPLslF6k6iaj",
        "colab_type": "code",
        "outputId": "3d04b089-95bc-4f9b-906a-c4d41337a585",
        "colab": {
          "base_uri": "https://localhost:8080/",
          "height": 204
        }
      },
      "source": [
        "df.head()"
      ],
      "execution_count": 103,
      "outputs": [
        {
          "output_type": "execute_result",
          "data": {
            "text/html": [
              "<div>\n",
              "<style scoped>\n",
              "    .dataframe tbody tr th:only-of-type {\n",
              "        vertical-align: middle;\n",
              "    }\n",
              "\n",
              "    .dataframe tbody tr th {\n",
              "        vertical-align: top;\n",
              "    }\n",
              "\n",
              "    .dataframe thead th {\n",
              "        text-align: right;\n",
              "    }\n",
              "</style>\n",
              "<table border=\"1\" class=\"dataframe\">\n",
              "  <thead>\n",
              "    <tr style=\"text-align: right;\">\n",
              "      <th></th>\n",
              "      <th>age</th>\n",
              "      <th>gender</th>\n",
              "      <th>Region1</th>\n",
              "      <th>Region2</th>\n",
              "      <th>detected_state</th>\n",
              "      <th>nationality</th>\n",
              "      <th>Travel_hist</th>\n",
              "      <th>Disease_hist</th>\n",
              "      <th>Symptom</th>\n",
              "      <th>Label</th>\n",
              "    </tr>\n",
              "  </thead>\n",
              "  <tbody>\n",
              "    <tr>\n",
              "      <th>0</th>\n",
              "      <td>23</td>\n",
              "      <td>0</td>\n",
              "      <td>17</td>\n",
              "      <td>16</td>\n",
              "      <td>1</td>\n",
              "      <td>1</td>\n",
              "      <td>24</td>\n",
              "      <td>2</td>\n",
              "      <td>3</td>\n",
              "      <td>0</td>\n",
              "    </tr>\n",
              "    <tr>\n",
              "      <th>1</th>\n",
              "      <td>41</td>\n",
              "      <td>0</td>\n",
              "      <td>11</td>\n",
              "      <td>12</td>\n",
              "      <td>18</td>\n",
              "      <td>1</td>\n",
              "      <td>24</td>\n",
              "      <td>1</td>\n",
              "      <td>3</td>\n",
              "      <td>0</td>\n",
              "    </tr>\n",
              "    <tr>\n",
              "      <th>2</th>\n",
              "      <td>21</td>\n",
              "      <td>0</td>\n",
              "      <td>46</td>\n",
              "      <td>40</td>\n",
              "      <td>22</td>\n",
              "      <td>1</td>\n",
              "      <td>24</td>\n",
              "      <td>2</td>\n",
              "      <td>2</td>\n",
              "      <td>0</td>\n",
              "    </tr>\n",
              "    <tr>\n",
              "      <th>3</th>\n",
              "      <td>55</td>\n",
              "      <td>1</td>\n",
              "      <td>58</td>\n",
              "      <td>50</td>\n",
              "      <td>7</td>\n",
              "      <td>3</td>\n",
              "      <td>30</td>\n",
              "      <td>0</td>\n",
              "      <td>2</td>\n",
              "      <td>1</td>\n",
              "    </tr>\n",
              "    <tr>\n",
              "      <th>4</th>\n",
              "      <td>41</td>\n",
              "      <td>0</td>\n",
              "      <td>24</td>\n",
              "      <td>21</td>\n",
              "      <td>21</td>\n",
              "      <td>1</td>\n",
              "      <td>24</td>\n",
              "      <td>0</td>\n",
              "      <td>1</td>\n",
              "      <td>1</td>\n",
              "    </tr>\n",
              "  </tbody>\n",
              "</table>\n",
              "</div>"
            ],
            "text/plain": [
              "   age  gender  Region1   Region2  ...  Travel_hist  Disease_hist  Symptom  Label\n",
              "0   23       0        17       16  ...           24             2        3      0\n",
              "1   41       0        11       12  ...           24             1        3      0\n",
              "2   21       0        46       40  ...           24             2        2      0\n",
              "3   55       1        58       50  ...           30             0        2      1\n",
              "4   41       0        24       21  ...           24             0        1      1\n",
              "\n",
              "[5 rows x 10 columns]"
            ]
          },
          "metadata": {
            "tags": []
          },
          "execution_count": 103
        }
      ]
    },
    {
      "cell_type": "code",
      "metadata": {
        "id": "_5IYWS9M6msA",
        "colab_type": "code",
        "outputId": "99e57943-cca1-4900-93bb-8ec2886757a0",
        "colab": {
          "base_uri": "https://localhost:8080/",
          "height": 119
        }
      },
      "source": [
        "X = df.iloc[:,0:9]\n",
        "Y = df.iloc[:,9]\n",
        "Y.head()"
      ],
      "execution_count": 104,
      "outputs": [
        {
          "output_type": "execute_result",
          "data": {
            "text/plain": [
              "0    0\n",
              "1    0\n",
              "2    0\n",
              "3    1\n",
              "4    1\n",
              "Name: Label, dtype: int64"
            ]
          },
          "metadata": {
            "tags": []
          },
          "execution_count": 104
        }
      ]
    },
    {
      "cell_type": "code",
      "metadata": {
        "id": "S5Xbm_KL7Lhf",
        "colab_type": "code",
        "outputId": "caa574ad-154c-45e7-9ace-10d6491a0d76",
        "colab": {
          "base_uri": "https://localhost:8080/",
          "height": 153
        }
      },
      "source": [
        "from sklearn.ensemble import ExtraTreesClassifier\n",
        "import matplotlib.pyplot as plt\n",
        "model = ExtraTreesClassifier()\n",
        "model.fit(X,Y)"
      ],
      "execution_count": 105,
      "outputs": [
        {
          "output_type": "execute_result",
          "data": {
            "text/plain": [
              "ExtraTreesClassifier(bootstrap=False, ccp_alpha=0.0, class_weight=None,\n",
              "                     criterion='gini', max_depth=None, max_features='auto',\n",
              "                     max_leaf_nodes=None, max_samples=None,\n",
              "                     min_impurity_decrease=0.0, min_impurity_split=None,\n",
              "                     min_samples_leaf=1, min_samples_split=2,\n",
              "                     min_weight_fraction_leaf=0.0, n_estimators=100,\n",
              "                     n_jobs=None, oob_score=False, random_state=None, verbose=0,\n",
              "                     warm_start=False)"
            ]
          },
          "metadata": {
            "tags": []
          },
          "execution_count": 105
        }
      ]
    },
    {
      "cell_type": "code",
      "metadata": {
        "id": "s3gLjThJ7V16",
        "colab_type": "code",
        "outputId": "2941d141-7084-46da-c311-1cce39336bac",
        "colab": {
          "base_uri": "https://localhost:8080/",
          "height": 51
        }
      },
      "source": [
        "print(model.feature_importances_) #use inbuilt class feature_importances of tree based classifiers\n"
      ],
      "execution_count": 106,
      "outputs": [
        {
          "output_type": "stream",
          "text": [
            "[0.03955581 0.01715433 0.07328548 0.08112559 0.05838841 0.00353026\n",
            " 0.13375673 0.05923409 0.53396929]\n"
          ],
          "name": "stdout"
        }
      ]
    },
    {
      "cell_type": "code",
      "metadata": {
        "id": "8CQDdVmk7ZYc",
        "colab_type": "code",
        "outputId": "458019a1-ed3d-4141-af8e-e37bd6bc7629",
        "colab": {
          "base_uri": "https://localhost:8080/",
          "height": 588
        }
      },
      "source": [
        "feat_importances = pd.Series(model.feature_importances_, index=X.columns)\n",
        "plt.figure(figsize=(10,10))\n",
        "feat_importances.nlargest(9).plot(kind='barh')\n",
        "plt.savefig('/content/drive/My Drive/COVID19/imp.png')\n",
        "plt.show()\n"
      ],
      "execution_count": 107,
      "outputs": [
        {
          "output_type": "display_data",
          "data": {
            "image/png": "[encoded data removed]",
            "text/plain": [
              "<Figure size 720x720 with 1 Axes>"
            ]
          },
          "metadata": {
            "tags": []
          }
        }
      ]
    },
    {
      "cell_type": "code",
      "metadata": {
        "id": "3N62A4ED7n9B",
        "colab_type": "code",
        "colab": {}
      },
      "source": [
        "from sklearn.preprocessing import StandardScaler #normalization\n",
        "std = StandardScaler()\n",
        "X = std.fit_transform(X)"
      ],
      "execution_count": 0,
      "outputs": []
    },
    {
      "cell_type": "code",
      "metadata": {
        "id": "e0jjP3pSJMuX",
        "colab_type": "code",
        "colab": {}
      },
      "source": [
        "from sklearn.model_selection import train_test_split\n",
        "X_train, X_test, y_train, y_test = train_test_split(X, Y, test_size=0.2, random_state=42)#random for splitting same data when run again.\n"
      ],
      "execution_count": 0,
      "outputs": []
    },
    {
      "cell_type": "markdown",
      "metadata": {
        "id": "H9r0xRLZK5Cu",
        "colab_type": "text"
      },
      "source": [
        "Used Random Forest for classification as it fits better for this type of dataset which is based on conditions. \n",
        "I am trying different algorithms currently to the find the best one. Random Forest was my first try."
      ]
    },
    {
      "cell_type": "code",
      "metadata": {
        "id": "SKRRePk3KoqZ",
        "colab_type": "code",
        "colab": {
          "base_uri": "https://localhost:8080/",
          "height": 153
        },
        "outputId": "7c2a8996-a35a-4af8-dd4c-2a984a6ffdba"
      },
      "source": [
        "# Fitting Random Forest Regression to the dataset \n",
        "# import the regressor \n",
        "from sklearn.ensemble import RandomForestClassifier \n",
        "\n",
        "# create regressor object \n",
        "clf = RandomForestClassifier(n_estimators=50,criterion='gini',  \n",
        "random_state=0)\n",
        "\n",
        "# fit the regressor with x and y data \n",
        "clf.fit(X_train,y_train)\n"
      ],
      "execution_count": 110,
      "outputs": [
        {
          "output_type": "execute_result",
          "data": {
            "text/plain": [
              "RandomForestClassifier(bootstrap=True, ccp_alpha=0.0, class_weight=None,\n",
              "                       criterion='gini', max_depth=None, max_features='auto',\n",
              "                       max_leaf_nodes=None, max_samples=None,\n",
              "                       min_impurity_decrease=0.0, min_impurity_split=None,\n",
              "                       min_samples_leaf=1, min_samples_split=2,\n",
              "                       min_weight_fraction_leaf=0.0, n_estimators=50,\n",
              "                       n_jobs=None, oob_score=False, random_state=0, verbose=0,\n",
              "                       warm_start=False)"
            ]
          },
          "metadata": {
            "tags": []
          },
          "execution_count": 110
        }
      ]
    },
    {
      "cell_type": "code",
      "metadata": {
        "id": "7LR-4XOuJvgp",
        "colab_type": "code",
        "colab": {
          "base_uri": "https://localhost:8080/",
          "height": 51
        },
        "outputId": "d126c307-a7c8-48f3-b15a-a76c04fd8b9a"
      },
      "source": [
        "y_pred = clf.predict(X_test) \n",
        "print(Counter(y_pred))\n",
        "print(Counter(y_test))\n"
      ],
      "execution_count": 111,
      "outputs": [
        {
          "output_type": "stream",
          "text": [
            "Counter({1: 117, 0: 78})\n",
            "Counter({1: 118, 0: 77})\n"
          ],
          "name": "stdout"
        }
      ]
    },
    {
      "cell_type": "code",
      "metadata": {
        "id": "eZkERZ1xJ1mr",
        "colab_type": "code",
        "colab": {
          "base_uri": "https://localhost:8080/",
          "height": 255
        },
        "outputId": "16d306ab-fc61-4adb-9f29-8a8eef73cdd5"
      },
      "source": [
        "# Python script for confusion matrix creation. \n",
        "from sklearn.metrics import confusion_matrix \n",
        "from sklearn.metrics import accuracy_score \n",
        "from sklearn.metrics import classification_report \n",
        " \n",
        "results = confusion_matrix(y_test, y_pred) \n",
        "print('Confusion Matrix :')\n",
        "print(results) \n",
        "print('Accuracy Score :',accuracy_score(y_test, y_pred))\n",
        "print('Report : ')\n",
        "print(classification_report(y_test, y_pred))\n",
        "#0 : Negative (No coronavirus)\n",
        "#1: Positive"
      ],
      "execution_count": 112,
      "outputs": [
        {
          "output_type": "stream",
          "text": [
            "Confusion Matrix :\n",
            "[[ 77   0]\n",
            " [  1 117]]\n",
            "Accuracy Score : 0.9948717948717949\n",
            "Report : \n",
            "              precision    recall  f1-score   support\n",
            "\n",
            "           0       0.99      1.00      0.99        77\n",
            "           1       1.00      0.99      1.00       118\n",
            "\n",
            "    accuracy                           0.99       195\n",
            "   macro avg       0.99      1.00      0.99       195\n",
            "weighted avg       0.99      0.99      0.99       195\n",
            "\n"
          ],
          "name": "stdout"
        }
      ]
    },
    {
      "cell_type": "markdown",
      "metadata": {
        "id": "PGzUIRPzL4If",
        "colab_type": "text"
      },
      "source": [
        "Testing the model with user's data"
      ]
    },
    {
      "cell_type": "code",
      "metadata": {
        "id": "hZ0W-x4xJ6tn",
        "colab_type": "code",
        "colab": {
          "base_uri": "https://localhost:8080/",
          "height": 187
        },
        "outputId": "3e6dfd3c-5160-4396-bb22-e8a54dcfeeac"
      },
      "source": [
        "age=int(input(\"Enter your Age : \"))\n",
        "gender=input(\"Enter your Gender : \")\n",
        "Region1=input(\"Enter your City : \")\n",
        "Region2=input(\"Enter your District : \")\n",
        "detected_state=input(\"Enter your State : \")\n",
        "nationality=input(\"Enter your Nationality : \")\n",
        "Travel_hist=input(\"Enter last City/Nation travelled : \")\n",
        "Disease_hist=input(\"If you have BP/Diabetes, mention it : \")\n",
        "Symptom=input(\"Mention present symptom of illness : \")\n",
        "data=[[age,gender,Region1,Region2,detected_state,nationality,Travel_hist,Disease_hist,Symptom]]\n",
        "dfX = pd.DataFrame(data, columns = ['age','gender','Region1 ','Region2','detected_state','nationality','Travel_hist','Disease_hist','Symptom'])\n",
        "for c in dfX.columns:\n",
        "    #print df[c].dtype\n",
        "    if dfX[c].dtype == \"object\":\n",
        "        dfX[c] = encodings[c].transform(dfX[c])\n",
        "X_test1 = std.transform(dfX)\n",
        "y_pred1 = clf.predict(X_test1) \n",
        "ans = encodings['Label'].inverse_transform(y_pred1)\n",
        "for dt in ans:\n",
        "  if dt=='Positive':\n",
        "    print(\"High chances of COVID-19\")\n",
        "  else:\n",
        "    print(\"You are not suffering from COVID-19\")"
      ],
      "execution_count": 92,
      "outputs": [
        {
          "output_type": "stream",
          "text": [
            "Enter your Age : 45\n",
            "Enter your Gender : Male\n",
            "Enter your City : Solapur\n",
            "Enter your District : Solapur\n",
            "Enter your State : Maharashtra\n",
            "Enter your Nationality : India\n",
            "Enter last City/Nation travelled : Italy\n",
            "If you have BP/Diabetes, mention it : Null\n",
            "Mention present symptom of illness : Null\n",
            "High chances of COVID-19\n"
          ],
          "name": "stdout"
        }
      ]
    },
    {
      "cell_type": "code",
      "metadata": {
        "id": "tonD5NVgMDQb",
        "colab_type": "code",
        "colab": {}
      },
      "source": [
        ""
      ],
      "execution_count": 0,
      "outputs": []
    }
  ]
}